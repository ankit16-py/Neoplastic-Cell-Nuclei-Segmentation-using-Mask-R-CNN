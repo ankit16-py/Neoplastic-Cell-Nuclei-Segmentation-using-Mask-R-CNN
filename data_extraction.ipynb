{
 "cells": [
  {
   "cell_type": "code",
   "execution_count": 1,
   "metadata": {},
   "outputs": [],
   "source": [
    "# library import\n",
    "import cv2\n",
    "import imutils\n",
    "from imutils import paths\n",
    "import numpy as np\n",
    "import os"
   ]
  },
  {
   "cell_type": "code",
   "execution_count": 2,
   "metadata": {},
   "outputs": [],
   "source": [
    "# making variables to hold path files for multiple folds of images and mask\n",
    "img_paths_fold1= \"../../data/panuke/Fold_1/images/fold1/images.npy\"\n",
    "type_paths_fold1= \"../../data/panuke/Fold_1/images/fold1/types.npy\"\n",
    "mask_paths_fold1= \"../../data/panuke/Fold_1/masks/fold1/masks.npy\"\n",
    "type_paths_fold2= \"../../data/panuke/Fold_2/images/fold2/types.npy\"\n",
    "img_paths_fold2= \"../../data/panuke/Fold_2/images/fold2/images.npy\"\n",
    "mask_paths_fold2= \"../../data/panuke/Fold_2/masks/fold2/masks.npy\"\n",
    "img_paths_fold3= \"../../data/panuke/Fold_3/images/fold3/images.npy\"\n",
    "mask_paths_fold3= \"../../data/panuke/Fold_3/masks/fold3/masks.npy\"\n",
    "type_paths_fold3= \"../../data/panuke/Fold_3/images/fold3/types.npy\"\n",
    "\n",
    "img_dest_path= \"./datset/images/\"\n",
    "mask_dest_path= \"./datset/masks/\""
   ]
  },
  {
   "cell_type": "code",
   "execution_count": 3,
   "metadata": {},
   "outputs": [],
   "source": [
    "# an iteratable list to work with\n",
    "folds= [(img_paths_fold1, mask_paths_fold1, type_paths_fold1), \n",
    "        (img_paths_fold2, mask_paths_fold2, type_paths_fold2),\n",
    "       (img_paths_fold3, mask_paths_fold3, type_paths_fold3)]"
   ]
  },
  {
   "cell_type": "code",
   "execution_count": 4,
   "metadata": {},
   "outputs": [],
   "source": [
    "count=0\n",
    "img_prefix= \"img_000\"\n",
    "mask_prefix= \"mask_000\"\n",
    "for fold in folds:\n",
    "    # load the path files\n",
    "    img_path= fold[0]\n",
    "    mask_path= fold[1]\n",
    "    type_path= fold[2]\n",
    "    \n",
    "    # load the raw encoded data along with type of tissue\n",
    "    images= np.load(img_path)\n",
    "    masks= np.load(mask_path)\n",
    "    types= np.load(type_path)\n",
    "    \n",
    "    for i in range(len(images)):\n",
    "        # change encoding to incorporate certain CV algos\n",
    "        img= images[i].astype('uint8')\n",
    "        mask= masks[i].astype('uint8')\n",
    "        type_t= types[i]\n",
    "        \n",
    "        # index into only the neoplastic masks\n",
    "        mask_neo= mask[:,:,0]\n",
    "        #mask_neo[mask_neo>0]=255\n",
    "        \n",
    "        # check if even a single instance of neoplastic cell exists\n",
    "        instance_count= np.unique(mask_neo)\n",
    "        if len(instance_count)>1:\n",
    "            count+=1\n",
    "            \n",
    "            # technique to save the masks and images in order\n",
    "            if count>=10 and count<100:\n",
    "                img_prefix= \"img_00\"\n",
    "                mask_prefix= \"mask_00\"\n",
    "                \n",
    "            elif count>=100 and count<1000:\n",
    "                img_prefix= \"img_0\"\n",
    "                mask_prefix= \"mask_0\"\n",
    "                \n",
    "            elif count>=1000 and count<10000:\n",
    "                img_prefix= \"img_\"\n",
    "                mask_prefix= \"mask_\"\n",
    "                \n",
    "            img_save_path= os.path.sep.join([img_dest_path, \n",
    "                                             img_prefix+str(count)+\"_\"+str(type_t)+\".png\"])\n",
    "            mask_save_path= os.path.sep.join([mask_dest_path, \n",
    "                                              mask_prefix+str(count)+\".png\"])\n",
    "            \n",
    "            # write png files to disk and compress them\n",
    "            cv2.imwrite(img_save_path, img)\n",
    "            cv2.imwrite(mask_save_path, mask_neo)"
   ]
  },
  {
   "cell_type": "markdown",
   "metadata": {},
   "source": [
    "### Post-training validation data and tissue type setup"
   ]
  },
  {
   "cell_type": "code",
   "execution_count": 5,
   "metadata": {},
   "outputs": [],
   "source": [
    "# Read all the validation data paths\n",
    "with open(\"datset/val_img_paths.txt\", \"r\") as f:\n",
    "    arr= f.readlines()\n",
    "    f.close()"
   ]
  },
  {
   "cell_type": "code",
   "execution_count": 6,
   "metadata": {},
   "outputs": [],
   "source": [
    "# clean the paths and remove any extra characters such as white-spaces\n",
    "val_images= [a.splitlines()[0] for a in arr]"
   ]
  },
  {
   "cell_type": "code",
   "execution_count": 12,
   "metadata": {},
   "outputs": [],
   "source": [
    "# extract the image numbers and store as indexes\n",
    "val_images_numbers= [i.split('\\\\')[-1].split('_')[-1] for i in val_images]"
   ]
  },
  {
   "cell_type": "code",
   "execution_count": 11,
   "metadata": {},
   "outputs": [],
   "source": [
    "# load in the images with types\n",
    "images_with_types=list(paths.list_images(img_dest_path))"
   ]
  },
  {
   "cell_type": "code",
   "execution_count": 20,
   "metadata": {},
   "outputs": [],
   "source": [
    "# load image with their type indexed as numbers\n",
    "images_with_types_numbers= [i.split('/')[-1].split('_')[1]+\".png\" for i in images_with_types]"
   ]
  },
  {
   "cell_type": "code",
   "execution_count": 28,
   "metadata": {},
   "outputs": [],
   "source": [
    "# search which validation data is present in both the lists with type and index\n",
    "# append it into a new type which stores indices\n",
    "type_idx=[]\n",
    "for val_n in val_images_numbers:\n",
    "    if val_n in images_with_types_numbers:\n",
    "        type_idx.append(images_with_types_numbers.index(val_n))"
   ]
  },
  {
   "cell_type": "code",
   "execution_count": 31,
   "metadata": {},
   "outputs": [],
   "source": [
    "# write corresponding type to file similar to the image\n",
    "with open('val_img_types.txt', 'w') as f:\n",
    "    for i in type_idx:\n",
    "        image_path= images_with_types[i]\n",
    "        img_type= image_path.split('/')[-1].split('_')[-1].split('.')[0]\n",
    "        f.write(\"%s\\n\"% img_type)\n",
    "    f.close()    "
   ]
  }
 ],
 "metadata": {
  "kernelspec": {
   "display_name": "Python 3",
   "language": "python",
   "name": "python3"
  },
  "language_info": {
   "codemirror_mode": {
    "name": "ipython",
    "version": 3
   },
   "file_extension": ".py",
   "mimetype": "text/x-python",
   "name": "python",
   "nbconvert_exporter": "python",
   "pygments_lexer": "ipython3",
   "version": "3.6.12"
  }
 },
 "nbformat": 4,
 "nbformat_minor": 4
}
